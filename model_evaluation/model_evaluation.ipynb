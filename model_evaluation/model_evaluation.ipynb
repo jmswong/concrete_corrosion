{
  "nbformat": 4,
  "nbformat_minor": 0,
  "metadata": {
    "colab": {
      "provenance": []
    },
    "kernelspec": {
      "name": "python3",
      "display_name": "Python 3"
    },
    "language_info": {
      "name": "python"
    }
  },
  "cells": [
    {
      "cell_type": "markdown",
      "source": [
        "# Model Evaluation\n",
        "This notebook computes detailed evaluation metrics for a given model (precision, recall, confusion matrix, etc.)\n",
        "\n",
        "Input format: Model prediction scores and true labels in csv format."
      ],
      "metadata": {
        "id": "0Am_qdxqoCoY"
      }
    },
    {
      "cell_type": "code",
      "execution_count": 65,
      "metadata": {
        "id": "SGKwee0XFLbu"
      },
      "outputs": [],
      "source": [
        "# Imports\n",
        "import copy\n",
        "import random\n",
        "import numpy as np\n",
        "import matplotlib.pyplot as plt\n",
        "from google.colab import drive\n",
        "import pandas as pd\n",
        "import matplotlib.pyplot as plt\n",
        "from sklearn.metrics import RocCurveDisplay\n",
        "from sklearn import metrics"
      ]
    },
    {
      "cell_type": "code",
      "source": [
        "# mount drive\n",
        "drive.mount('/content/drive')"
      ],
      "metadata": {
        "colab": {
          "base_uri": "https://localhost:8080/"
        },
        "id": "RZFENPJMFcrf",
        "outputId": "938a0367-cf09-4950-f080-4b14241c51cb"
      },
      "execution_count": 2,
      "outputs": [
        {
          "output_type": "stream",
          "name": "stdout",
          "text": [
            "Mounted at /content/drive\n"
          ]
        }
      ]
    },
    {
      "cell_type": "code",
      "source": [
        "import pandas as pd\n",
        "df = pd.read_csv(r'/content/drive/MyDrive/CS230/output.csv', header=None)\n",
        "test_labels = np.load('/content/drive/MyDrive/CS230/labels_test.npy', allow_pickle=False)\n",
        "assert len(df) == len(test_labels)\n",
        "NUM_TOTAL = len(df)"
      ],
      "metadata": {
        "id": "KbjB0at3FsHQ"
      },
      "execution_count": 3,
      "outputs": []
    },
    {
      "cell_type": "code",
      "source": [
        "# Construct dataset\n",
        "predictions = {}\n",
        "labels = {}\n",
        "predictions_list = []\n",
        "labels_list = []\n",
        "for i in range(len(df)):\n",
        "  # This is a hack, TODO: implement better parsing\n",
        "  simulation, timestep = eval(df.iloc[i][0])\n",
        "  pred_float, label = df.iloc[i][1].strip(\")(\").split(\",\")\n",
        "  pred_float = float(pred_float)\n",
        "  pred = 1 if pred_float > 0.01 else 0\n",
        "  label = int(label[-2])\n",
        "  predictions[(simulation, timestep)] = pred\n",
        "  labels[(simulation, timestep)] = label\n",
        "  predictions_list.append(pred_float)\n",
        "  labels_list.append(label)"
      ],
      "metadata": {
        "id": "abT-qOVrF9M3"
      },
      "execution_count": 59,
      "outputs": []
    },
    {
      "cell_type": "code",
      "source": [
        "true_positives = []\n",
        "false_positives = []\n",
        "true_negatives = []\n",
        "false_negatives = []\n",
        "for k in predictions.keys():\n",
        "  pred = predictions[k]\n",
        "  label = labels[k]\n",
        "  if pred == label and label == 1:\n",
        "    true_positives.append(k)\n",
        "  elif pred == label and label == 0:\n",
        "    true_negatives.append(k)\n",
        "  elif pred != label and label == 1:\n",
        "    false_negatives.append(k)\n",
        "  elif pred != label and label == 0:\n",
        "    false_positives.append(k)\n",
        "  else:\n",
        "    assert False\n",
        "\n",
        "num_tp = len(true_positives)\n",
        "num_fp = len(false_positives)\n",
        "num_tn = len(true_negatives)\n",
        "num_fn = len(false_negatives)\n",
        "\n",
        "print(\"True Positives: %d (%2.2f%%)\" % (num_tp, 100 * num_tp / NUM_TOTAL))\n",
        "print(\"True Negatives: %d (%2.2f%%)\" %  (num_tn, 100 * num_tn / NUM_TOTAL))\n",
        "print(\"False Positives: %d (%2.2f%%)\" %  (num_fp, 100 * num_fp / NUM_TOTAL))\n",
        "print(\"False Negatives: %d (%2.2f%%)\" %  (num_fn, 100 * num_fn / NUM_TOTAL))"
      ],
      "metadata": {
        "colab": {
          "base_uri": "https://localhost:8080/"
        },
        "id": "mIqQBmeVF73Y",
        "outputId": "101f512d-471e-4eaa-f0ce-5a00d15c87eb"
      },
      "execution_count": 60,
      "outputs": [
        {
          "output_type": "stream",
          "name": "stdout",
          "text": [
            "True Positives: 147 (37.03%)\n",
            "True Negatives: 66 (16.62%)\n",
            "False Positives: 183 (46.10%)\n",
            "False Negatives: 1 (0.25%)\n"
          ]
        }
      ]
    },
    {
      "cell_type": "code",
      "source": [
        "print(\"Example false negatives:\" )\n",
        "print(false_negatives)\n",
        "print(\"Example false positives:\" )\n",
        "print(false_positives)"
      ],
      "metadata": {
        "colab": {
          "base_uri": "https://localhost:8080/"
        },
        "id": "A4YwX_S7JOup",
        "outputId": "5fdc0060-fa9a-419e-c105-91f8ca198cb7"
      },
      "execution_count": 61,
      "outputs": [
        {
          "output_type": "stream",
          "name": "stdout",
          "text": [
            "Example false negatives:\n",
            "[(9, 7)]\n",
            "Example false positives:\n",
            "[(4926, 9), (28, 4), (325, 9), (5044, 9), (6004, 9), (4781, 9), (696, 9), (39, 7), (271, 9), (411, 9), (550, 9), (32, 5), (5023, 9), (147, 9), (4927, 9), (4737, 8), (354, 9), (6273, 9), (676, 9), (45, 8), (809, 9), (4732, 2), (4741, 3), (201, 9), (6189, 9), (185, 9), (27, 2), (5016, 9), (27, 4), (252, 9), (959, 9), (4735, 5), (4733, 9), (6208, 9), (702, 9), (6094, 9), (2, 8), (963, 9), (453, 9), (4726, 3), (5031, 9), (4734, 5), (6375, 9), (207, 9), (678, 9), (822, 9), (62, 9), (875, 9), (31, 2), (104, 9), (6244, 9), (6155, 9), (892, 9), (6132, 9), (303, 9), (6279, 9), (951, 9), (661, 9), (285, 9), (4874, 9), (366, 9), (6351, 9), (746, 9), (749, 9), (693, 9), (837, 9), (397, 9), (479, 9), (244, 9), (6077, 9), (6089, 9), (4737, 5), (6371, 9), (741, 9), (399, 9), (735, 9), (445, 9), (6005, 9), (427, 9), (6188, 9), (4726, 5), (153, 9), (825, 9), (327, 9), (283, 9), (905, 9), (208, 9), (952, 9), (6007, 9), (946, 9), (978, 9), (4731, 4), (13, 7), (37, 4), (100, 9), (6086, 9), (6207, 9), (417, 9), (452, 9), (154, 9), (852, 9), (5043, 9), (23, 8), (267, 9), (488, 9), (607, 9), (4787, 9), (6154, 9), (307, 9), (39, 2), (396, 9), (542, 9), (817, 9), (6049, 9), (4885, 9), (276, 9), (562, 9), (423, 9), (448, 9), (6002, 9), (289, 9), (284, 9), (4736, 6), (40, 6), (893, 9), (6227, 9), (38, 3), (46, 8), (987, 9), (32, 4), (933, 9), (4736, 3), (4906, 9), (28, 9), (137, 9), (4735, 7), (4920, 9), (4799, 9), (4729, 3), (346, 9), (4752, 4), (4736, 5), (6106, 9), (6060, 9), (5025, 9), (81, 9), (43, 2), (50, 9), (4754, 7), (549, 9), (6284, 9), (4738, 8), (4752, 2), (6069, 9), (6297, 9), (236, 9), (390, 9), (738, 9), (4753, 9), (6348, 9), (6068, 9), (44, 9), (608, 9), (21, 2), (4867, 9), (133, 9), (4868, 9), (35, 3), (4739, 8), (395, 9), (442, 9), (6178, 9), (4726, 2), (331, 9), (6320, 9), (4747, 2), (6009, 9), (21, 6), (5030, 9), (4872, 9), (4737, 7), (6011, 9), (539, 9)]\n"
          ]
        }
      ]
    },
    {
      "cell_type": "code",
      "source": [
        "# Compute statistics\n",
        "accuracy = (num_tp + num_tn) / NUM_TOTAL\n",
        "precision = num_tp / (num_tp + num_fp)\n",
        "recall = num_tp / (num_tp + num_fn)\n",
        "f1_score = (2 * precision * recall) / (precision + recall)\n",
        "fpr, tpr, thresholds = metrics.roc_curve(labels_list, predictions_list, pos_label=1)\n",
        "auc = metrics.auc(fpr, tpr)\n",
        "\n",
        "print(\"Accuracy: %.3f\" % (1 * accuracy))\n",
        "print(\"Precision: %.3f\" % (1 * precision))\n",
        "print(\"Recall: %.3f\" % (1 * recall))\n",
        "print(\"F1 Score: %.3f\" % (1 * f1_score))\n",
        "print(\"AUC: %.3f\" % (1 * auc))"
      ],
      "metadata": {
        "colab": {
          "base_uri": "https://localhost:8080/"
        },
        "id": "l8jhpKGDJTFR",
        "outputId": "fe3bb0d1-b376-456f-dbc1-29487531dad9"
      },
      "execution_count": 70,
      "outputs": [
        {
          "output_type": "stream",
          "name": "stdout",
          "text": [
            "Accuracy: 0.537\n",
            "Precision: 0.445\n",
            "Recall: 0.993\n",
            "F1 Score: 0.615\n",
            "AUC: 0.955\n"
          ]
        }
      ]
    },
    {
      "cell_type": "code",
      "source": [
        "RocCurveDisplay.from_predictions(\n",
        "    labels_list, predictions_list,\n",
        ")\n",
        "plt.plot([0, 1], [0, 1], \"k--\", label=\"chance level (AUC = 0.5)\")\n",
        "plt.axis(\"square\")\n",
        "plt.xlabel(\"False Positive Rate\")\n",
        "plt.ylabel(\"True Positive Rate\")\n",
        "plt.title(\"Conv1-H1-FC1 ROC Curve\")\n",
        "plt.legend()\n",
        "plt.show()"
      ],
      "metadata": {
        "colab": {
          "base_uri": "https://localhost:8080/",
          "height": 295
        },
        "id": "dXF9Q4F3WvAt",
        "outputId": "645c685a-d246-4c66-a9d9-566f71cdc872"
      },
      "execution_count": 71,
      "outputs": [
        {
          "output_type": "display_data",
          "data": {
            "text/plain": [
              "<Figure size 432x288 with 1 Axes>"
            ],
            "image/png": "[encoded data removed]"
          },
          "metadata": {
            "needs_background": "light"
          }
        }
      ]
    }
  ]
}